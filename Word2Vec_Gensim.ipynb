{
  "nbformat": 4,
  "nbformat_minor": 0,
  "metadata": {
    "colab": {
      "provenance": [],
      "authorship_tag": "ABX9TyOpSx7tn/MJuMmYtNW80KIQ",
      "include_colab_link": true
    },
    "kernelspec": {
      "name": "python3",
      "display_name": "Python 3"
    },
    "language_info": {
      "name": "python"
    }
  },
  "cells": [
    {
      "cell_type": "markdown",
      "metadata": {
        "id": "view-in-github",
        "colab_type": "text"
      },
      "source": [
        "<a href=\"https://colab.research.google.com/github/Twinkle-gawri/Word2Vec/blob/main/Word2Vec_Gensim.ipynb\" target=\"_parent\"><img src=\"https://colab.research.google.com/assets/colab-badge.svg\" alt=\"Open In Colab\"/></a>"
      ]
    },
    {
      "cell_type": "code",
      "source": [
        "!pip install gensim"
      ],
      "metadata": {
        "colab": {
          "base_uri": "https://localhost:8080/"
        },
        "id": "dR6oCdn27w01",
        "outputId": "a5d5cdda-51de-4b9e-b4b1-da2e106949b9"
      },
      "execution_count": 1,
      "outputs": [
        {
          "output_type": "stream",
          "name": "stdout",
          "text": [
            "Collecting gensim\n",
            "  Using cached gensim-4.3.3-cp311-cp311-manylinux_2_17_x86_64.manylinux2014_x86_64.whl.metadata (8.1 kB)\n",
            "Requirement already satisfied: numpy<2.0,>=1.18.5 in /usr/local/lib/python3.11/dist-packages (from gensim) (1.24.3)\n",
            "Collecting scipy<1.14.0,>=1.7.0 (from gensim)\n",
            "  Using cached scipy-1.13.1-cp311-cp311-manylinux_2_17_x86_64.manylinux2014_x86_64.whl.metadata (60 kB)\n",
            "Requirement already satisfied: smart-open>=1.8.1 in /usr/local/lib/python3.11/dist-packages (from gensim) (7.1.0)\n",
            "Requirement already satisfied: wrapt in /usr/local/lib/python3.11/dist-packages (from smart-open>=1.8.1->gensim) (1.17.2)\n",
            "Downloading gensim-4.3.3-cp311-cp311-manylinux_2_17_x86_64.manylinux2014_x86_64.whl (26.7 MB)\n",
            "\u001b[2K   \u001b[90m━━━━━━━━━━━━━━━━━━━━━━━━━━━━━━━━━━━━━━━━\u001b[0m \u001b[32m26.7/26.7 MB\u001b[0m \u001b[31m25.5 MB/s\u001b[0m eta \u001b[36m0:00:00\u001b[0m\n",
            "\u001b[?25hDownloading scipy-1.13.1-cp311-cp311-manylinux_2_17_x86_64.manylinux2014_x86_64.whl (38.6 MB)\n",
            "\u001b[2K   \u001b[90m━━━━━━━━━━━━━━━━━━━━━━━━━━━━━━━━━━━━━━━━\u001b[0m \u001b[32m38.6/38.6 MB\u001b[0m \u001b[31m8.0 MB/s\u001b[0m eta \u001b[36m0:00:00\u001b[0m\n",
            "\u001b[?25hInstalling collected packages: scipy, gensim\n",
            "  Attempting uninstall: scipy\n",
            "    Found existing installation: scipy 1.14.1\n",
            "    Uninstalling scipy-1.14.1:\n",
            "      Successfully uninstalled scipy-1.14.1\n",
            "\u001b[31mERROR: pip's dependency resolver does not currently take into account all the packages that are installed. This behaviour is the source of the following dependency conflicts.\n",
            "pymc 5.21.2 requires numpy>=1.25.0, but you have numpy 1.24.3 which is incompatible.\n",
            "albumentations 2.0.5 requires numpy>=1.24.4, but you have numpy 1.24.3 which is incompatible.\n",
            "jaxlib 0.5.1 requires numpy>=1.25, but you have numpy 1.24.3 which is incompatible.\n",
            "jax 0.5.2 requires numpy>=1.25, but you have numpy 1.24.3 which is incompatible.\u001b[0m\u001b[31m\n",
            "\u001b[0mSuccessfully installed gensim-4.3.3 scipy-1.13.1\n"
          ]
        }
      ]
    },
    {
      "cell_type": "code",
      "source": [
        "from gensim import downloader"
      ],
      "metadata": {
        "id": "ijO-jYm8Iosf"
      },
      "execution_count": 1,
      "outputs": []
    },
    {
      "cell_type": "code",
      "source": [
        "wv = downloader.load('glove-wiki-gigaword-50')"
      ],
      "metadata": {
        "colab": {
          "base_uri": "https://localhost:8080/"
        },
        "id": "Btl3a52rJKlT",
        "outputId": "f9ef6b97-814b-41fb-fd69-aafbce29baf3"
      },
      "execution_count": 3,
      "outputs": [
        {
          "output_type": "stream",
          "name": "stdout",
          "text": [
            "[==================================================] 100.0% 66.0/66.0MB downloaded\n"
          ]
        }
      ]
    },
    {
      "cell_type": "code",
      "source": [
        "wv.most_similar('car',topn=5)"
      ],
      "metadata": {
        "colab": {
          "base_uri": "https://localhost:8080/"
        },
        "id": "hML98G8wJUsm",
        "outputId": "d206861f-124d-447c-d979-e172ad1a31f9"
      },
      "execution_count": 4,
      "outputs": [
        {
          "output_type": "execute_result",
          "data": {
            "text/plain": [
              "[('truck', 0.92085862159729),\n",
              " ('cars', 0.8870189785957336),\n",
              " ('vehicle', 0.8833683729171753),\n",
              " ('driver', 0.8464019298553467),\n",
              " ('driving', 0.8384189009666443)]"
            ]
          },
          "metadata": {},
          "execution_count": 4
        }
      ]
    },
    {
      "cell_type": "code",
      "source": [
        "wv.most_similar(positive=['car','minivan']) # It finds words that are similar to the combination of 'car' and 'minivan'."
      ],
      "metadata": {
        "colab": {
          "base_uri": "https://localhost:8080/"
        },
        "id": "wXBDjL7uLEbu",
        "outputId": "eaae286d-d2b4-4432-e82c-df694ec7886e"
      },
      "execution_count": 5,
      "outputs": [
        {
          "output_type": "execute_result",
          "data": {
            "text/plain": [
              "[('truck', 0.9100273251533508),\n",
              " ('suv', 0.904007613658905),\n",
              " ('jeep', 0.8619828820228577),\n",
              " ('vehicle', 0.8431736826896667),\n",
              " ('cars', 0.8421834111213684),\n",
              " ('parked', 0.8129159212112427),\n",
              " ('dealership', 0.7910657525062561),\n",
              " ('pickup', 0.7901358604431152),\n",
              " ('mercedes', 0.787341296672821),\n",
              " ('wagon', 0.7841063737869263)]"
            ]
          },
          "metadata": {},
          "execution_count": 5
        }
      ]
    },
    {
      "cell_type": "code",
      "source": [
        "print(wv.most_similar(positive=['woman','king'],negative=['man'],topn=1))\n",
        "\n",
        "\"\"\"\n",
        "positive=['woman', 'king'] -> Add the vector for woman and king.\n",
        "negative=['man'] -> Subtract the vector for man.\n",
        "topn=1 -> Return the single most similar word to the result.\n",
        "\"\"\""
      ],
      "metadata": {
        "colab": {
          "base_uri": "https://localhost:8080/",
          "height": 70
        },
        "id": "1yTd_eL7M4xd",
        "outputId": "06bd7de7-9a3c-4918-89b4-aa7d63a7ace1"
      },
      "execution_count": 7,
      "outputs": [
        {
          "output_type": "stream",
          "name": "stdout",
          "text": [
            "[('queen', 0.8523604273796082)]\n"
          ]
        },
        {
          "output_type": "execute_result",
          "data": {
            "text/plain": [
              "\"\\npositive=['woman', 'king'] -> Add the vector for woman and king.\\nnegative=['man'] -> Subtract the vector for man.\\ntopn=1 -> Return the single most similar word to the result.\\n\""
            ],
            "application/vnd.google.colaboratory.intrinsic+json": {
              "type": "string"
            }
          },
          "metadata": {},
          "execution_count": 7
        }
      ]
    },
    {
      "cell_type": "code",
      "source": [
        "wv.similarity('man','woman')"
      ],
      "metadata": {
        "colab": {
          "base_uri": "https://localhost:8080/"
        },
        "id": "CbL-2Je0N0m3",
        "outputId": "1365db93-76b3-4af4-bea5-ebe4ae36fd82"
      },
      "execution_count": 8,
      "outputs": [
        {
          "output_type": "execute_result",
          "data": {
            "text/plain": [
              "0.8860338"
            ]
          },
          "metadata": {},
          "execution_count": 8
        }
      ]
    },
    {
      "cell_type": "code",
      "source": [
        "wv.doesnt_match(['land','air','sea','water','car'])  # Find which word doesn't fit (i.e., is the least similar) among the given list."
      ],
      "metadata": {
        "colab": {
          "base_uri": "https://localhost:8080/",
          "height": 36
        },
        "id": "5sEsGenIOApe",
        "outputId": "96b2614d-f0a6-46df-8572-1f49ccd935a8"
      },
      "execution_count": 9,
      "outputs": [
        {
          "output_type": "execute_result",
          "data": {
            "text/plain": [
              "'car'"
            ],
            "application/vnd.google.colaboratory.intrinsic+json": {
              "type": "string"
            }
          },
          "metadata": {},
          "execution_count": 9
        }
      ]
    },
    {
      "cell_type": "code",
      "source": [
        "# This code initializes the model with those parameters, but does not train it yet.\n",
        "from gensim.models import Word2Vec\n",
        "model = Word2Vec(window=2, # sets the size of the context window to 2.\n",
        "         negative=20, # number of negative samples used in the negative sampling process.\n",
        "         min_count=5, # Ignores all words with total frequency lower than 5 in the corpus.\n",
        "         vector_size=300) # Each word will be represented by a 300-dimensional vector."
      ],
      "metadata": {
        "id": "0NMvKisSOEdQ"
      },
      "execution_count": 10,
      "outputs": []
    },
    {
      "cell_type": "markdown",
      "source": [
        "When training a Word2Vec model, you can't just jump into training. First, the model needs to:\n",
        "* Scan your sentences\n",
        "* Count word frequencies\n",
        "* Filter words based on min_count\n",
        "* Create a vocabulary\n",
        "    * Map words to unique IDs\n",
        "    * Prepare internal tables needed for training (like for negative sampling)"
      ],
      "metadata": {
        "id": "aQHjFwW9oSBd"
      }
    },
    {
      "cell_type": "code",
      "source": [
        "import pandas as pd\n",
        "data=pd.read_csv('/content/train.csv')"
      ],
      "metadata": {
        "id": "nHmYj3vXd_io"
      },
      "execution_count": 11,
      "outputs": []
    },
    {
      "cell_type": "code",
      "source": [
        "data.dropna(axis=0, how='any', inplace=True)\n",
        "\"\"\"\n",
        "This removes any rows from the DataFrame data that contain at least one missing (NaN) value.\n",
        "  axis=0 --> specifies rows.\n",
        "  how='any' --> drop the row if any column is NaN.\n",
        "  inplace=True --> the changes are made directly to the original DataFrame (data), not returning a new one.\n",
        "\"\"\"\n",
        "sentences = [row.split() for row in data['text']]\n",
        "\"\"\"\n",
        "This creates a list of tokenized sentences from the 'text' column of your DataFrame.\n",
        "Each row in data['text'] is assumed to be a string (e.g., a sentence or paragraph).\n",
        ".split() splits each string into a list of words (tokens), usually based on whitespace.\n",
        "\"\"\""
      ],
      "metadata": {
        "colab": {
          "base_uri": "https://localhost:8080/",
          "height": 53
        },
        "id": "MGoztVb4eqPA",
        "outputId": "358e5497-df84-4e93-bb32-2b7c812a93f9"
      },
      "execution_count": 12,
      "outputs": [
        {
          "output_type": "execute_result",
          "data": {
            "text/plain": [
              "\"\\nThis creates a list of tokenized sentences from the 'text' column of your DataFrame.\\nEach row in data['text'] is assumed to be a string (e.g., a sentence or paragraph).\\n.split() splits each string into a list of words (tokens), usually based on whitespace.\\n\""
            ],
            "application/vnd.google.colaboratory.intrinsic+json": {
              "type": "string"
            }
          },
          "metadata": {},
          "execution_count": 12
        }
      ]
    },
    {
      "cell_type": "code",
      "source": [
        "model.build_vocab(sentences,progress_per=1000)\n",
        "\"\"\"\n",
        "Scans your tokenized sentences (sentences) to build the vocabulary.\n",
        "progress_per=1000 = it lets you see that the process is working and gives you a sense of progress.\n",
        "\"\"\""
      ],
      "metadata": {
        "id": "57KvG0dblz45"
      },
      "execution_count": 13,
      "outputs": []
    },
    {
      "cell_type": "code",
      "source": [
        "model.train(sentences, epochs=30, total_examples=model.corpus_count) # Actual Training Phase , (trained_word_count, total_word_count)"
      ],
      "metadata": {
        "colab": {
          "base_uri": "https://localhost:8080/"
        },
        "id": "Xkn--M4toXXi",
        "outputId": "0cd0763d-84a7-42c3-ab11-e334b1e41fbc"
      },
      "execution_count": 14,
      "outputs": [
        {
          "output_type": "execute_result",
          "data": {
            "text/plain": [
              "(6843056, 10637130)"
            ]
          },
          "metadata": {},
          "execution_count": 14
        }
      ]
    },
    {
      "cell_type": "code",
      "source": [
        "model.wv['sad']"
      ],
      "metadata": {
        "colab": {
          "base_uri": "https://localhost:8080/"
        },
        "id": "FbqigG0Nphp1",
        "outputId": "e6dce665-ddef-4f9f-ef19-afdfdc8f0da3"
      },
      "execution_count": 15,
      "outputs": [
        {
          "output_type": "execute_result",
          "data": {
            "text/plain": [
              "array([ 3.89738023e-01,  4.05321196e-02, -9.46059704e-01, -5.56559682e-01,\n",
              "        2.38109902e-01, -1.02653956e+00,  4.80230629e-01,  6.24811471e-01,\n",
              "       -9.29139927e-02, -2.40441173e-01, -1.12344384e-01,  4.16138828e-01,\n",
              "        3.45952839e-01,  9.92363393e-01,  8.63126814e-02, -1.00347555e+00,\n",
              "        3.11229676e-01,  6.21255279e-01, -3.48913148e-02, -1.66044444e-01,\n",
              "        6.80994034e-01,  2.08367616e-01,  2.99134314e-01, -6.39072657e-01,\n",
              "       -2.57314891e-01,  1.29199350e+00, -7.32435167e-01, -5.09418488e-01,\n",
              "        5.91552794e-01,  2.06318304e-01, -1.18690050e+00, -4.07797366e-01,\n",
              "       -9.18258190e-01,  1.24120913e-01, -5.19405603e-01,  8.19421113e-02,\n",
              "       -1.04695596e-01, -1.07615851e-01, -3.03642303e-01,  3.81280243e-01,\n",
              "       -1.21719040e-01,  1.48522854e-01, -8.38146091e-01, -8.65654230e-01,\n",
              "        8.15935910e-01,  1.23482645e+00, -2.91331738e-01, -8.24882567e-01,\n",
              "       -8.16204429e-01,  1.04357339e-01,  7.87321806e-01, -1.16564892e-02,\n",
              "        3.76984984e-01,  7.43862465e-02, -1.38592526e-01,  2.05590248e-01,\n",
              "       -5.73520474e-02,  1.65863842e-01,  9.53735709e-02,  7.28350759e-01,\n",
              "       -4.47732449e-01, -1.44400620e+00, -2.46309400e-01, -5.03789008e-01,\n",
              "        5.61769828e-02, -3.73664528e-01,  1.33079326e+00, -7.70157933e-01,\n",
              "        4.14100528e-01, -5.64280991e-03,  7.60974139e-02, -6.62936807e-01,\n",
              "        7.82939076e-01,  1.22256160e+00, -3.49320412e-01,  8.15536320e-01,\n",
              "       -1.53959799e+00,  9.64697003e-01, -5.10216892e-01,  6.30109251e-01,\n",
              "       -2.43109092e-01,  4.57169116e-01,  1.90280557e-01,  2.59643555e-01,\n",
              "       -1.99320719e-01,  1.77865505e-01, -2.12793514e-01,  6.30424201e-01,\n",
              "       -6.85639083e-02, -3.70671660e-01, -1.44492224e-01, -1.47655100e-01,\n",
              "        6.17572330e-02, -4.05236363e-01,  7.28805542e-01,  5.88518798e-01,\n",
              "        5.96553147e-01, -5.44624329e-01, -5.51209003e-02, -5.06130457e-01,\n",
              "        6.21524274e-01,  6.37675762e-01, -2.19931200e-01, -2.06020817e-01,\n",
              "       -6.83340549e-01, -2.24787012e-01, -7.73610920e-02, -4.48205411e-01,\n",
              "        1.08688343e+00,  9.31658149e-01, -9.22872603e-01,  1.66939759e+00,\n",
              "        9.64601114e-02,  5.70305765e-01,  5.70650697e-01, -1.03864026e+00,\n",
              "       -1.03513014e+00, -1.42302954e+00,  9.31865513e-01,  6.00603759e-01,\n",
              "        4.84920200e-03,  7.09334135e-01,  4.17278260e-01, -2.53989428e-01,\n",
              "       -3.66018564e-01, -1.42545447e-01, -2.74173915e-01,  3.39061290e-01,\n",
              "        8.29813182e-01,  2.32125461e-01,  5.44885658e-02,  1.24102783e+00,\n",
              "       -5.83266973e-01, -3.97690624e-01,  5.27973056e-01, -4.96889025e-01,\n",
              "       -9.19215858e-01,  4.77675617e-01, -2.56825924e-01, -1.84614682e+00,\n",
              "       -1.09036291e+00, -7.21029341e-02,  5.79604149e-01,  5.96531093e-01,\n",
              "        8.17667067e-01,  1.36252820e-01,  7.37464309e-01,  3.62991154e-01,\n",
              "       -1.60188172e-02,  1.69521257e-01,  1.32074757e-02,  8.24615777e-01,\n",
              "        9.29695070e-01,  1.30556986e-01,  1.38700530e-01, -1.25110835e-01,\n",
              "        2.63549298e-01, -2.39744931e-01, -1.39777869e-01, -3.37983698e-01,\n",
              "       -3.53298873e-01,  1.70638815e-01,  4.81968135e-01, -5.08332670e-01,\n",
              "       -7.42555737e-01, -3.92064929e-01,  5.43967783e-01,  4.52513725e-01,\n",
              "       -4.33970958e-01, -6.94189847e-01,  6.04881823e-01,  1.16083086e+00,\n",
              "       -1.19788468e-01, -2.37893447e-01,  6.46521151e-01,  3.69082779e-01,\n",
              "        1.87273994e-01,  4.01669107e-02,  3.19600217e-02, -9.48192954e-01,\n",
              "        4.88237262e-01,  1.84198529e-01,  3.23700011e-01,  9.93724912e-03,\n",
              "       -2.84388810e-02, -1.63546532e-01, -3.59685183e-01, -1.55935287e-01,\n",
              "        7.46971369e-02,  1.16182595e-01, -2.34515786e-01, -4.10467088e-01,\n",
              "       -1.12458920e+00, -6.47367984e-02, -1.04045796e+00, -6.15022331e-03,\n",
              "        1.55473769e-01, -1.16363361e-01, -4.32490259e-01,  1.08137295e-01,\n",
              "        4.42456663e-01, -1.30526111e-01,  1.11468196e-01, -8.43541175e-02,\n",
              "       -6.94536448e-01,  6.16807759e-01,  8.26079965e-01,  7.44126916e-01,\n",
              "       -9.98149216e-02,  4.04952735e-01,  8.82246554e-01, -3.56437147e-01,\n",
              "       -5.37021935e-01,  7.01971710e-01, -5.71808577e-01,  5.08235991e-01,\n",
              "       -1.18731952e+00, -4.87596914e-02, -2.49922514e-01,  1.13396227e-01,\n",
              "        4.85203147e-01,  4.13191319e-02,  1.96551681e-01, -5.69350183e-01,\n",
              "       -7.80446470e-01, -2.30335463e-02, -5.14451206e-01, -4.39808875e-01,\n",
              "       -5.84224045e-01,  6.05303049e-01, -2.80390680e-01,  1.47593498e-01,\n",
              "        4.91716899e-02,  8.52748811e-01,  1.46262801e+00,  3.39210361e-01,\n",
              "       -8.94967914e-01,  5.26428699e-01,  7.36512721e-01, -7.31297433e-01,\n",
              "        1.14529932e+00,  3.67493212e-01,  2.25000102e-02, -4.72424738e-02,\n",
              "       -2.27293029e-01, -4.50178325e-01, -3.70149076e-01,  5.11903763e-01,\n",
              "        1.31076741e+00, -8.07982162e-02,  1.19553447e+00,  3.84208858e-01,\n",
              "        6.12985045e-02,  3.70105445e-01, -6.06708050e-01, -7.32344508e-01,\n",
              "       -2.29892060e-01, -3.81505758e-01, -3.27596115e-03, -5.08264720e-01,\n",
              "        8.26433301e-01, -4.34725046e-01, -4.65982378e-01, -2.23151520e-01,\n",
              "        9.39385533e-01,  5.81554115e-01,  1.37287602e-01, -2.86821991e-01,\n",
              "        4.16641682e-01,  6.84219658e-01,  3.99513721e-01, -8.38475466e-01,\n",
              "       -7.70028979e-02, -4.87236410e-01, -3.49654049e-01,  4.91334885e-01,\n",
              "        6.37331545e-01, -1.54734671e-01,  1.75272435e-01,  1.51740119e-01,\n",
              "        3.13779294e-01,  2.92674869e-01,  1.34132674e-03, -4.26385731e-01,\n",
              "        3.68020564e-01,  1.91204548e-01,  1.36840117e+00,  7.15181291e-01,\n",
              "       -7.89105669e-02,  8.30126822e-01,  4.74000931e-01, -3.17937016e-01,\n",
              "       -6.48277998e-01, -8.72843061e-03, -7.04114497e-01, -1.10968240e-01,\n",
              "        2.63370369e-02, -1.17851770e+00, -3.91208887e-01, -9.47875902e-02],\n",
              "      dtype=float32)"
            ]
          },
          "metadata": {},
          "execution_count": 15
        }
      ]
    },
    {
      "cell_type": "code",
      "source": [
        "model.wv.most_similar('sad')"
      ],
      "metadata": {
        "colab": {
          "base_uri": "https://localhost:8080/"
        },
        "id": "YZvxrDstqMSp",
        "outputId": "5ac75fa9-9378-47a0-a521-c65ca59918a9"
      },
      "execution_count": 16,
      "outputs": [
        {
          "output_type": "execute_result",
          "data": {
            "text/plain": [
              "[('bummed', 0.5891948938369751),\n",
              " ('disappointed', 0.5763925313949585),\n",
              " ('sad.', 0.558874785900116),\n",
              " ('sad!', 0.5587061047554016),\n",
              " ('excited', 0.5293232202529907),\n",
              " ('depressed', 0.5233137011528015),\n",
              " ('upset', 0.5128488540649414),\n",
              " ('nervous', 0.5039489269256592),\n",
              " ('sad...', 0.49715086817741394),\n",
              " ('funny,', 0.4956815540790558)]"
            ]
          },
          "metadata": {},
          "execution_count": 16
        }
      ]
    },
    {
      "cell_type": "code",
      "source": [],
      "metadata": {
        "id": "xI0ICA6WqYCp"
      },
      "execution_count": null,
      "outputs": []
    }
  ]
}